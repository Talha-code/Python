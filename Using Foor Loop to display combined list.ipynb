{
 "cells": [
  {
   "cell_type": "code",
   "execution_count": 5,
   "metadata": {},
   "outputs": [
    {
     "name": "stdout",
     "output_type": "stream",
     "text": [
      "Apple Banana Guava \n",
      "Apple Banana Guava \n",
      "Apple Banana Guava \n",
      "Apple Banana Guava \n",
      "Apple Banana Guava \n",
      "Apple Banana Guava \n",
      "Apple Banana Guava \n",
      "Apple Banana Guava \n",
      "Apple Banana Guava \n",
      "Apple Banana Guava \n",
      "Apple Banana Guava \n",
      "Apple Banana Guava \n",
      "Apple Banana Guava \n",
      "Apple Banana Guava \n",
      "Apple Banana Guava \n",
      "Apple Banana Guava \n",
      "Apple Banana Guava \n",
      "Apple Banana Guava \n",
      "Apple Banana Guava \n",
      "Apple Banana Guava \n"
     ]
    }
   ],
   "source": [
    "\"\"\"\"\"   Making of For Loop which can display\n",
    "        list two time\n",
    "\"\"\"\"\"\n",
    "fruits= [\"Apple\", \"Banana\", \"Guava\"]\n",
    "\n",
    "for i in range(20):\n",
    "    for a in fruits:\n",
    "        print (a,end=\" \")\n",
    "    print()    \n",
    "        \n",
    "        "
   ]
  },
  {
   "cell_type": "code",
   "execution_count": null,
   "metadata": {},
   "outputs": [],
   "source": []
  },
  {
   "cell_type": "code",
   "execution_count": null,
   "metadata": {},
   "outputs": [],
   "source": []
  }
 ],
 "metadata": {
  "kernelspec": {
   "display_name": "Python 3",
   "language": "python",
   "name": "python3"
  },
  "language_info": {
   "codemirror_mode": {
    "name": "ipython",
    "version": 3
   },
   "file_extension": ".py",
   "mimetype": "text/x-python",
   "name": "python",
   "nbconvert_exporter": "python",
   "pygments_lexer": "ipython3",
   "version": "3.7.3"
  }
 },
 "nbformat": 4,
 "nbformat_minor": 2
}
