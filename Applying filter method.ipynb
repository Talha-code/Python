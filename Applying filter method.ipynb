{
 "cells": [
  {
   "cell_type": "code",
   "execution_count": 20,
   "metadata": {},
   "outputs": [
    {
     "name": "stdout",
     "output_type": "stream",
     "text": [
      "['Ali', 'Babar']\n"
     ]
    }
   ],
   "source": [
    "\"\"\"Filtering the specidied names from the list using list function\"\"\"\n",
    "\n",
    "name_list= [\"Ali\", \"Ahsan\", \"Areeb\", \"Aoun\", \"Babar\", \"Bilal\", \"Bashir\", \"Zeeshan\", \"Zain\", \"Zuhaib\"]\n",
    "letters = ['Ali', 'Babar'] \n",
    "\n",
    "def getname(name_list):\n",
    "    sel_name = letters\n",
    "    \n",
    "    if (name_list in letters):\n",
    "        return True\n",
    "    else:\n",
    "        return False\n",
    "    \n",
    "getnames = filter(getname,name_list)\n",
    "print (list(getnames))"
   ]
  },
  {
   "cell_type": "code",
   "execution_count": null,
   "metadata": {},
   "outputs": [],
   "source": []
  },
  {
   "cell_type": "code",
   "execution_count": null,
   "metadata": {},
   "outputs": [],
   "source": []
  }
 ],
 "metadata": {
  "kernelspec": {
   "display_name": "Python 3",
   "language": "python",
   "name": "python3"
  },
  "language_info": {
   "codemirror_mode": {
    "name": "ipython",
    "version": 3
   },
   "file_extension": ".py",
   "mimetype": "text/x-python",
   "name": "python",
   "nbconvert_exporter": "python",
   "pygments_lexer": "ipython3",
   "version": "3.7.3"
  }
 },
 "nbformat": 4,
 "nbformat_minor": 2
}
