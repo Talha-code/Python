{
 "cells": [
  {
   "cell_type": "code",
   "execution_count": 15,
   "metadata": {},
   "outputs": [
    {
     "name": "stdout",
     "output_type": "stream",
     "text": [
      "Select Any Operator\n",
      "ADD\n",
      "SUBTRACT\n",
      "MULTIPLY\n",
      "DIVIDE\n",
      "Enter the choice 1/2/3/47\n",
      "Enter the first value2\n",
      "Enter the second value2\n",
      "Invalid Syntax\n"
     ]
    }
   ],
   "source": [
    "def add(x,y):\n",
    "    return x + y\n",
    "\n",
    "def subtract(x,y):\n",
    "    return x-y\n",
    "\n",
    "def multiply(x,y):\n",
    "    return x*y\n",
    "\n",
    "def divide(x,y):\n",
    "    return x/y\n",
    "\n",
    "\n",
    "print(\"Select Any Operator\")\n",
    "print(\"ADD\")\n",
    "print(\"SUBTRACT\")\n",
    "print(\"MULTIPLY\")\n",
    "print(\"DIVIDE\")\n",
    "\n",
    "choice= input(\"Enter the choice 1/2/3/4\")\n",
    "\n",
    "first_value= float(input('Enter the first value'))\n",
    "second_value= float(input('Enter the second value'))\n",
    "\n",
    "if choice == '1':\n",
    "    print(first_value, \"+\", second_value,\"=\", add(first_value,second_value))\n",
    "    \n",
    "elif choice =='2':\n",
    "    print(first_value, \"-\", second_value, \"=\", subtract(first_value,second_value))\n",
    "    \n",
    "elif choice =='3':\n",
    "    print(first_value, \"*\", second_value, \"=\", multiply(first_value,second_value)) \n",
    "\n",
    "elif choice =='4':\n",
    "    print(first_value, \"/\", second_value, \"=\", divide(first_value,second_value))  \n",
    "\n",
    "else:\n",
    "    print('Invalid Syntax')\n",
    "    \n",
    "    "
   ]
  },
  {
   "cell_type": "code",
   "execution_count": null,
   "metadata": {},
   "outputs": [],
   "source": []
  }
 ],
 "metadata": {
  "kernelspec": {
   "display_name": "Python 3",
   "language": "python",
   "name": "python3"
  },
  "language_info": {
   "codemirror_mode": {
    "name": "ipython",
    "version": 3
   },
   "file_extension": ".py",
   "mimetype": "text/x-python",
   "name": "python",
   "nbconvert_exporter": "python",
   "pygments_lexer": "ipython3",
   "version": "3.7.3"
  }
 },
 "nbformat": 4,
 "nbformat_minor": 2
}
