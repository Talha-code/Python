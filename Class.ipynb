{
 "cells": [
  {
   "cell_type": "code",
   "execution_count": 9,
   "metadata": {},
   "outputs": [],
   "source": [
    "\"\"\"Defining the simple class and to call its function using objects\"\"\"\n",
    "class car:\n",
    "    def automatic(self):\n",
    "        print(\"This is automatic car\")\n",
    "        \n",
    "    def luxury(self):\n",
    "        print(\"This is luxuey car\")\n",
    "        \n",
    "    \n",
    "        "
   ]
  },
  {
   "cell_type": "code",
   "execution_count": 10,
   "metadata": {},
   "outputs": [
    {
     "name": "stdout",
     "output_type": "stream",
     "text": [
      "This is automatic car\n",
      "This is luxuey car\n"
     ]
    }
   ],
   "source": [
    "toyota= car()\n",
    "toyota.automatic()\n",
    "toyota.luxury()"
   ]
  },
  {
   "cell_type": "code",
   "execution_count": 14,
   "metadata": {},
   "outputs": [
    {
     "name": "stdout",
     "output_type": "stream",
     "text": [
      "This is constructor method\n",
      "This is automatic car\n",
      "This is luxuey car\n"
     ]
    }
   ],
   "source": [
    "\"\"\"Defining the class with constructor\n",
    "due to which __init__ is called before \n",
    "object \"\"\"\n",
    "class car:\n",
    "    def __init__(self):\n",
    "        print(\"This is constructor method\")\n",
    "        \n",
    "    def automatic(self):\n",
    "        print(\"This is automatic car\")\n",
    "        \n",
    "    def luxury(self):\n",
    "        print(\"This is luxuey car\")\n",
    "        \n",
    "toyota= car()\n",
    "toyota.automatic()\n",
    "toyota.luxury()   "
   ]
  },
  {
   "cell_type": "code",
   "execution_count": 8,
   "metadata": {},
   "outputs": [
    {
     "name": "stdout",
     "output_type": "stream",
     "text": [
      "Corolla is automatic car\n",
      "Corolla is luxuey car\n"
     ]
    }
   ],
   "source": [
    "\"\"\"Defining the class with constructor\n",
    "due to which __init__ is called before \n",
    "object \"\"\"\n",
    "class car:\n",
    "    def __init__(self,name):\n",
    "        self.name=name\n",
    "        \n",
    "    def automatic(self):\n",
    "        print(self.name+\" is automatic car\")\n",
    "        \n",
    "    def luxury(self):\n",
    "        print(self.name+\" is luxuey car\")\n",
    "        \n",
    "toyota= car(\"Corolla\")\n",
    "toyota.automatic()\n",
    "toyota.luxury()   "
   ]
  },
  {
   "cell_type": "code",
   "execution_count": 18,
   "metadata": {},
   "outputs": [
    {
     "name": "stdout",
     "output_type": "stream",
     "text": [
      "Corolla 2000 is automatic car\n",
      "Corolla 2000 is luxuey car\n"
     ]
    }
   ],
   "source": [
    "\"\"\"Defining the class with constructor\n",
    "due to which __init__ is called before \n",
    "object \"\"\"\n",
    "class car:\n",
    "    def __init__(self,name,model):\n",
    "        self.name=name\n",
    "        self.model=model\n",
    "        \n",
    "    def automatic(self):\n",
    "        print(self.name +\" \"+ self.model+\" is automatic car\")\n",
    "        \n",
    "    def luxury(self):\n",
    "        print(self.name+ \" \"+ self.model+\" is luxuey car\")\n",
    "        \n",
    "toyota= car(\"Corolla\",\"2000\")\n",
    "toyota.automatic()\n",
    "toyota.luxury()  "
   ]
  },
  {
   "cell_type": "code",
   "execution_count": null,
   "metadata": {},
   "outputs": [],
   "source": []
  }
 ],
 "metadata": {
  "kernelspec": {
   "display_name": "Python 3",
   "language": "python",
   "name": "python3"
  },
  "language_info": {
   "codemirror_mode": {
    "name": "ipython",
    "version": 3
   },
   "file_extension": ".py",
   "mimetype": "text/x-python",
   "name": "python",
   "nbconvert_exporter": "python",
   "pygments_lexer": "ipython3",
   "version": "3.7.3"
  }
 },
 "nbformat": 4,
 "nbformat_minor": 2
}
